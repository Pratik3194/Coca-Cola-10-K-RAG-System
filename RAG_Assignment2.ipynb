{
  "nbformat": 4,
  "nbformat_minor": 0,
  "metadata": {
    "colab": {
      "provenance": []
    },
    "kernelspec": {
      "name": "python3",
      "display_name": "Python 3"
    },
    "language_info": {
      "name": "python"
    }
  },
  "cells": [
    {
      "cell_type": "code",
      "execution_count": 2,
      "metadata": {
        "id": "xRK9D_IGdvZ-"
      },
      "outputs": [],
      "source": [
        "import warnings\n",
        "warnings.filterwarnings(\"ignore\")"
      ]
    },
    {
      "cell_type": "code",
      "execution_count": 3,
      "metadata": {
        "id": "4fTQJZDiZtIR"
      },
      "outputs": [],
      "source": [
        "# attach to the same event-loop\n",
        "import nest_asyncio\n",
        "\n",
        "nest_asyncio.apply()\n",
        "\n",
        "import logging\n",
        "import sys\n",
        "\n",
        "# Set up the root logger\n",
        "logger = logging.getLogger()\n",
        "logger.setLevel(logging.INFO)  # Set logger level to INFO\n",
        "\n",
        "# Clear out any existing handlers\n",
        "logger.handlers = []\n",
        "\n",
        "# Set up the StreamHandler to output to sys.stdout (Colab's output)\n",
        "handler = logging.StreamHandler(sys.stdout)\n",
        "handler.setLevel(logging.INFO)  # Set handler level to INFO\n",
        "\n",
        "# Add the handler to the logger\n",
        "logger.addHandler(handler)"
      ]
    },
    {
      "cell_type": "code",
      "execution_count": 4,
      "metadata": {
        "id": "O384ocD_OjDG",
        "scrolled": true,
        "colab": {
          "base_uri": "https://localhost:8080/"
        },
        "outputId": "5ed4e9e3-8141-4e1f-80de-652e341eef76"
      },
      "outputs": [
        {
          "output_type": "stream",
          "name": "stdout",
          "text": [
            "NumExpr defaulting to 2 threads.\n"
          ]
        }
      ],
      "source": [
        "import logging\n",
        "import sys\n",
        "import pandas as pd\n",
        "\n",
        "logging.basicConfig(stream=sys.stdout, level=logging.INFO)\n",
        "logging.getLogger().addHandler(logging.StreamHandler(stream=sys.stdout))"
      ]
    },
    {
      "cell_type": "code",
      "execution_count": 5,
      "metadata": {
        "id": "M8OygZ0T7Z57"
      },
      "outputs": [],
      "source": [
        "%%capture\n",
        "!pip install llama_index\n",
        "!pip install transformers\n",
        "!pip install llama-index-embeddings-huggingface"
      ]
    },
    {
      "cell_type": "code",
      "source": [
        "from llama_index.core.node_parser import SimpleFileNodeParser\n",
        "from llama_index.readers.file import FlatReader\n",
        "from pathlib import Path\n",
        "from llama_index.readers.file import PDFReader\n",
        "from llama_index.llms.openai import OpenAI\n",
        "from llama_index.core import VectorStoreIndex\n",
        "import os"
      ],
      "metadata": {
        "id": "nfosEJlK7qWp"
      },
      "execution_count": 6,
      "outputs": []
    },
    {
      "cell_type": "code",
      "source": [
        "from llama_index.core.evaluation import (\n",
        "    FaithfulnessEvaluator,\n",
        "    RelevancyEvaluator,\n",
        "    CorrectnessEvaluator,\n",
        "    RetrieverEvaluator,\n",
        "    generate_question_context_pairs,\n",
        "    EmbeddingQAFinetuneDataset)"
      ],
      "metadata": {
        "id": "GdY3Ri3sF6YE"
      },
      "execution_count": 7,
      "outputs": []
    },
    {
      "cell_type": "code",
      "source": [
        "from google.colab import userdata\n",
        "OPENAI_API_KEY = userdata.get('OPENAI_API_KEY')\n",
        "\n",
        "os.environ['OPENAI_API_KEY'] = OPENAI_API_KEY"
      ],
      "metadata": {
        "id": "yRUIunbDAh1Y"
      },
      "execution_count": 8,
      "outputs": []
    },
    {
      "cell_type": "code",
      "source": [
        "loader = PDFReader()\n",
        "documents = loader.load_data(file=Path('/content/drive/MyDrive/Gen AI/RAG/annual_filings/0000021344-23-000011.pdf'))"
      ],
      "metadata": {
        "id": "mVkc_HFCAKb9"
      },
      "execution_count": 9,
      "outputs": []
    },
    {
      "cell_type": "code",
      "source": [
        "parser = SimpleFileNodeParser()\n",
        "nodes = parser.get_nodes_from_documents(documents)"
      ],
      "metadata": {
        "id": "j6U12_A6Aa8N"
      },
      "execution_count": 10,
      "outputs": []
    },
    {
      "cell_type": "code",
      "source": [
        "len(nodes)"
      ],
      "metadata": {
        "colab": {
          "base_uri": "https://localhost:8080/"
        },
        "id": "6ZDGgJ9uAfn-",
        "outputId": "a8f35579-ebe4-4364-83ce-7f836489def5"
      },
      "execution_count": 11,
      "outputs": [
        {
          "output_type": "execute_result",
          "data": {
            "text/plain": [
              "183"
            ]
          },
          "metadata": {},
          "execution_count": 11
        }
      ]
    },
    {
      "cell_type": "code",
      "source": [
        "gpt35 = OpenAI(temperature=0, model=\"gpt-3.5-turbo\")"
      ],
      "metadata": {
        "id": "5zIRzNTXBSGt"
      },
      "execution_count": 12,
      "outputs": []
    },
    {
      "cell_type": "code",
      "source": [
        "from llama_index.embeddings.huggingface import HuggingFaceEmbedding\n",
        "embed_model = HuggingFaceEmbedding(model_name=\"BAAI/bge-small-en-v1.5\")"
      ],
      "metadata": {
        "id": "gpDQdCT5KVct"
      },
      "execution_count": null,
      "outputs": []
    },
    {
      "cell_type": "code",
      "source": [
        "vector_store_index = VectorStoreIndex(nodes, embed_model=embed_model, llm=gpt35, show_progress=False)"
      ],
      "metadata": {
        "id": "Oe9H_yQeK5GV"
      },
      "execution_count": null,
      "outputs": []
    },
    {
      "cell_type": "code",
      "source": [
        "qa_list = [\n",
        "    {\"question\": \"What is the primary business of The Coca-Cola Company?\", \"answer\": \"The Coca-Cola Company is a total beverage company, offering a wide range of beverages, including sparkling soft drinks, waters, sports drinks, juices, teas, coffees, and plant-based beverages, sold in over 200 countries.\"},\n",
        "    {\"question\": \"What are Coca-Cola's three pillars for growth?\", \"answer\": \"The three pillars are: Loved Brands, Done Sustainably, and For a Better Shared Future.\"},\n",
        "    {\"question\": \"How many servings of Coca-Cola products are consumed worldwide daily?\", \"answer\": \"Coca-Cola products account for approximately 2.2 billion servings out of the 64 billion servings of beverages consumed worldwide daily.\"},\n",
        "    {\"question\": \"Which are the top five nonalcoholic sparkling soft drink brands Coca-Cola owns?\", \"answer\": \"The top five brands are Coca-Cola, Sprite, Fanta, Coca-Cola Zero Sugar, and Diet Coke/Coca-Cola Light.\"},\n",
        "    {\"question\": \"What percentage of Coca-Cola’s global unit case volume in 2022 was attributed to sparkling soft drinks?\", \"answer\": \"Sparkling soft drinks represented 69% of Coca-Cola's global unit case volume in 2022.\"},\n",
        "    {\"question\": \"What are the main ingredients Coca-Cola uses in its beverages?\", \"answer\": \"The primary ingredients include high fructose corn syrup, sucrose, aspartame, sucralose, citric acid, phosphoric acid, caffeine, caramel color, water, and various juice concentrates.\"},\n",
        "    {\"question\": \"What major competitors does Coca-Cola face globally?\", \"answer\": \"Coca-Cola's primary competitors include PepsiCo, Nestlé, Keurig Dr Pepper, Suntory Beverage & Food, Unilever, Red Bull, and several regional and local brands.\"},\n",
        "    {\"question\": \"What are the company’s biggest markets outside the U.S.?\", \"answer\": \"The largest markets outside the U.S. in terms of unit case volumes are Mexico, China, Brazil, and India.\"},\n",
        "    {\"question\": \"What are some of the bottling partners of Coca-Cola?\", \"answer\": \"Major bottling partners include Coca-Cola FEMSA, Coca-Cola Europacific Partners, Coca-Cola HBC AG, Arca Continental, and Swire Coca-Cola Limited.\"},\n",
        "    {\"question\": \"What sustainability goals does Coca-Cola aim to achieve by 2030?\", \"answer\": \"Coca-Cola aims to have 50% of its global leadership positions held by women and to reflect the U.S. Census' racial and ethnic representation at all job levels in the U.S.\"}\n",
        "]\n"
      ],
      "metadata": {
        "id": "fBjud44BLBfe"
      },
      "execution_count": 33,
      "outputs": []
    },
    {
      "cell_type": "code",
      "source": [
        "from llama_index.core.retrievers import AutoMergingRetriever"
      ],
      "metadata": {
        "id": "3C7521CeOqau"
      },
      "execution_count": 16,
      "outputs": []
    },
    {
      "cell_type": "code",
      "source": [
        "from llama_index.core.retrievers import VectorIndexAutoRetriever"
      ],
      "metadata": {
        "id": "FA-ocDjPPHf6"
      },
      "execution_count": 17,
      "outputs": []
    },
    {
      "cell_type": "markdown",
      "source": [
        "## Sentenc Window Retriever"
      ],
      "metadata": {
        "id": "umC8rOSqTPCl"
      }
    },
    {
      "cell_type": "code",
      "source": [
        "from llama_index.core.node_parser import SentenceWindowNodeParser\n",
        "node_parser = SentenceWindowNodeParser.from_defaults(\n",
        "    window_size=3,\n",
        "    window_metadata_key=\"window\",\n",
        "    original_text_metadata_key=\"original_text\",\n",
        ")"
      ],
      "metadata": {
        "id": "G-MFYYjlQVqL"
      },
      "execution_count": 19,
      "outputs": []
    },
    {
      "cell_type": "code",
      "source": [
        "nodes_sentence_window = node_parser.get_nodes_from_documents(documents)"
      ],
      "metadata": {
        "id": "-XXpeA0oQVoJ"
      },
      "execution_count": 20,
      "outputs": []
    },
    {
      "cell_type": "code",
      "source": [
        "sentence_index = VectorStoreIndex(nodes_sentence_window, embed_model=embed_model, llm=gpt35, show_progress=False)"
      ],
      "metadata": {
        "id": "_Eodb83CQVlu"
      },
      "execution_count": null,
      "outputs": []
    },
    {
      "cell_type": "code",
      "source": [
        "sentence_query_engine = sentence_index.as_query_engine()"
      ],
      "metadata": {
        "id": "zVy7BdGwQVjO"
      },
      "execution_count": 22,
      "outputs": []
    },
    {
      "cell_type": "code",
      "source": [
        "# define storage context\n",
        "from llama_index.core.storage.docstore import SimpleDocumentStore\n",
        "from llama_index.core.storage import StorageContext\n",
        "# from llama_index import ServiceContext\n",
        "# from llama_index.llms import OpenAI\n",
        "\n",
        "docstore = SimpleDocumentStore()\n",
        "\n",
        "# insert nodes into docstore\n",
        "docstore.add_documents(nodes)\n",
        "\n",
        "# define storage context (will include vector store by default too)\n",
        "storage_context = StorageContext.from_defaults(docstore=docstore)\n",
        "\n",
        "# service_context = ServiceContext.from_defaults(\n",
        "#     llm=OpenAI(model=\"gpt-3.5-turbo\")\n",
        "# )"
      ],
      "metadata": {
        "id": "Ueeqy2uonubz"
      },
      "execution_count": 23,
      "outputs": []
    },
    {
      "cell_type": "markdown",
      "source": [
        "## Auto Merging Retriever"
      ],
      "metadata": {
        "id": "NpQtv119TcmG"
      }
    },
    {
      "cell_type": "code",
      "source": [
        "base_retriever = vector_store_index.as_retriever(similarity_top_k=6)\n",
        "auto_merging_retriever = AutoMergingRetriever(base_retriever, storage_context, verbose=True)"
      ],
      "metadata": {
        "id": "r-2r4rcsQVhC"
      },
      "execution_count": 24,
      "outputs": []
    },
    {
      "cell_type": "markdown",
      "source": [
        "## Auto Retriever"
      ],
      "metadata": {
        "id": "0k4_PCJYTnMj"
      }
    },
    {
      "cell_type": "code",
      "source": [
        "from llama_index.core.vector_stores.types import MetadataInfo, VectorStoreInfo"
      ],
      "metadata": {
        "id": "aoqDhuegoMuN"
      },
      "execution_count": 25,
      "outputs": []
    },
    {
      "cell_type": "code",
      "source": [
        "# Define the content and metadata of the PDF\n",
        "vector_store_info = VectorStoreInfo(\n",
        "    content_info=\"The Coca-Cola Company 10-K financial report for the fiscal year ending 2022\",\n",
        "    metadata_info=[\n",
        "        MetadataInfo(\n",
        "            name=\"report_section\",\n",
        "            type=\"str\",\n",
        "            description=\"Section of the report, one of [Business, Risk Factors, Financial Statements, Legal Proceedings]\",\n",
        "        ),\n",
        "        MetadataInfo(\n",
        "            name=\"fiscal_year\",\n",
        "            type=\"int\",\n",
        "            description=\"The fiscal year for which the report is created (e.g., 2022)\"\n",
        "        ),\n",
        "        MetadataInfo(\n",
        "            name=\"geography\",\n",
        "            type=\"str\",\n",
        "            description=\"Geographical focus in the report, one of [United States, Latin America, Europe, Asia Pacific]\",\n",
        "        ),\n",
        "        MetadataInfo(\n",
        "            name=\"segment\",\n",
        "            type=\"str\",\n",
        "            description=\"Operational segment discussed, one of [North America, EMEA, Latin America, Global Ventures, Bottling Investments]\"\n",
        "        )\n",
        "    ]\n",
        ")"
      ],
      "metadata": {
        "id": "YredevLAqOVF"
      },
      "execution_count": 26,
      "outputs": []
    },
    {
      "cell_type": "code",
      "source": [
        "auto_retriever = VectorIndexAutoRetriever(\n",
        "    index=vector_store_index,  # Your pre-built vector index\n",
        "    vector_store_info=vector_store_info\n",
        ")"
      ],
      "metadata": {
        "id": "mYceYxx3qsjF"
      },
      "execution_count": 27,
      "outputs": []
    },
    {
      "cell_type": "markdown",
      "source": [
        "## Query Engines"
      ],
      "metadata": {
        "id": "rlTfXaBYTwWJ"
      }
    },
    {
      "cell_type": "code",
      "source": [
        "from llama_index.core.query_engine import RetrieverQueryEngine"
      ],
      "metadata": {
        "id": "T2tYSWiiq5QY"
      },
      "execution_count": 28,
      "outputs": []
    },
    {
      "cell_type": "code",
      "source": [
        "auto_merging_query_engine = RetrieverQueryEngine.from_args(auto_merging_retriever)\n",
        "auto_query_engine = RetrieverQueryEngine.from_args(auto_retriever)"
      ],
      "metadata": {
        "id": "6xvuyDO6sI5q"
      },
      "execution_count": 29,
      "outputs": []
    },
    {
      "cell_type": "code",
      "source": [
        "relevancy_evaluator = RelevancyEvaluator(llm=gpt35)\n",
        "faithfulness_evaluator = FaithfulnessEvaluator(llm=gpt35)\n",
        "correctness_evaluator = CorrectnessEvaluator(llm=gpt35)"
      ],
      "metadata": {
        "id": "ZAjccxcZs1rb"
      },
      "execution_count": 30,
      "outputs": []
    },
    {
      "cell_type": "code",
      "source": [
        "from tqdm import tqdm"
      ],
      "metadata": {
        "id": "_eOfKE9oByqc"
      },
      "execution_count": 31,
      "outputs": []
    },
    {
      "cell_type": "code",
      "source": [
        "qa_list = qa_list[0:5]"
      ],
      "metadata": {
        "id": "aptpaujeDPD6"
      },
      "execution_count": 35,
      "outputs": []
    },
    {
      "cell_type": "markdown",
      "source": [
        "## Performance: Sentence Window Retriever"
      ],
      "metadata": {
        "id": "a5pq-6v2T46y"
      }
    },
    {
      "cell_type": "code",
      "source": [
        "relevancy_correct = 0\n",
        "faithfulness_correct = 0\n",
        "correctness_correct = 0\n",
        "\n",
        "for pair in tqdm(qa_list):\n",
        "  question = pair['question']\n",
        "  answer = pair['answer']\n",
        "\n",
        "  response_vector = sentence_query_engine.query(question)\n",
        "\n",
        "  relevancy_eval_result = relevancy_evaluator.evaluate_response(query=question, response=response_vector)\n",
        "  faithfullness_eval_result = faithfulness_evaluator.evaluate_response(response=response_vector)\n",
        "  # correctness_eval_result = correctness_evaluator.evaluate(\n",
        "  #   query=question,\n",
        "  #   response=response_vector.response,\n",
        "  #   reference=answer,\n",
        "  # )\n",
        "\n",
        "  if relevancy_eval_result.passing:\n",
        "    relevancy_correct += 1\n",
        "  if faithfullness_eval_result.passing:\n",
        "    faithfulness_correct += 1\n",
        "  # if correctness_eval_result.passing:\n",
        "  #   correctness_correct += 1\n",
        "\n",
        "relevancy_score = relevancy_correct/len(qa_list)\n",
        "faithfulness_score = faithfulness_correct/len(qa_list)\n",
        "# correctness_score = correctness_correct/len(qa_list)"
      ],
      "metadata": {
        "id": "G4sksKvLB0p6"
      },
      "execution_count": null,
      "outputs": []
    },
    {
      "cell_type": "code",
      "source": [
        "import pandas as pd\n",
        "df = {'mean_relevancy_score': [relevancy_score], 'mean_faithfulness_score': [faithfulness_score]}\n",
        "df = pd.DataFrame(df)\n",
        "df"
      ],
      "metadata": {
        "colab": {
          "base_uri": "https://localhost:8080/",
          "height": 89
        },
        "id": "We8Q9UJcCEPx",
        "outputId": "e01142b8-041f-4d37-9525-deb55c39fd64"
      },
      "execution_count": 37,
      "outputs": [
        {
          "output_type": "execute_result",
          "data": {
            "text/plain": [
              "   mean_relevancy_score  mean_faithfulness_score\n",
              "0                   0.8                      1.0"
            ],
            "text/html": [
              "\n",
              "  <div id=\"df-46d78693-9d92-46c4-8fcd-8fc6bc9a15a6\" class=\"colab-df-container\">\n",
              "    <div>\n",
              "<style scoped>\n",
              "    .dataframe tbody tr th:only-of-type {\n",
              "        vertical-align: middle;\n",
              "    }\n",
              "\n",
              "    .dataframe tbody tr th {\n",
              "        vertical-align: top;\n",
              "    }\n",
              "\n",
              "    .dataframe thead th {\n",
              "        text-align: right;\n",
              "    }\n",
              "</style>\n",
              "<table border=\"1\" class=\"dataframe\">\n",
              "  <thead>\n",
              "    <tr style=\"text-align: right;\">\n",
              "      <th></th>\n",
              "      <th>mean_relevancy_score</th>\n",
              "      <th>mean_faithfulness_score</th>\n",
              "    </tr>\n",
              "  </thead>\n",
              "  <tbody>\n",
              "    <tr>\n",
              "      <th>0</th>\n",
              "      <td>0.8</td>\n",
              "      <td>1.0</td>\n",
              "    </tr>\n",
              "  </tbody>\n",
              "</table>\n",
              "</div>\n",
              "    <div class=\"colab-df-buttons\">\n",
              "\n",
              "  <div class=\"colab-df-container\">\n",
              "    <button class=\"colab-df-convert\" onclick=\"convertToInteractive('df-46d78693-9d92-46c4-8fcd-8fc6bc9a15a6')\"\n",
              "            title=\"Convert this dataframe to an interactive table.\"\n",
              "            style=\"display:none;\">\n",
              "\n",
              "  <svg xmlns=\"http://www.w3.org/2000/svg\" height=\"24px\" viewBox=\"0 -960 960 960\">\n",
              "    <path d=\"M120-120v-720h720v720H120Zm60-500h600v-160H180v160Zm220 220h160v-160H400v160Zm0 220h160v-160H400v160ZM180-400h160v-160H180v160Zm440 0h160v-160H620v160ZM180-180h160v-160H180v160Zm440 0h160v-160H620v160Z\"/>\n",
              "  </svg>\n",
              "    </button>\n",
              "\n",
              "  <style>\n",
              "    .colab-df-container {\n",
              "      display:flex;\n",
              "      gap: 12px;\n",
              "    }\n",
              "\n",
              "    .colab-df-convert {\n",
              "      background-color: #E8F0FE;\n",
              "      border: none;\n",
              "      border-radius: 50%;\n",
              "      cursor: pointer;\n",
              "      display: none;\n",
              "      fill: #1967D2;\n",
              "      height: 32px;\n",
              "      padding: 0 0 0 0;\n",
              "      width: 32px;\n",
              "    }\n",
              "\n",
              "    .colab-df-convert:hover {\n",
              "      background-color: #E2EBFA;\n",
              "      box-shadow: 0px 1px 2px rgba(60, 64, 67, 0.3), 0px 1px 3px 1px rgba(60, 64, 67, 0.15);\n",
              "      fill: #174EA6;\n",
              "    }\n",
              "\n",
              "    .colab-df-buttons div {\n",
              "      margin-bottom: 4px;\n",
              "    }\n",
              "\n",
              "    [theme=dark] .colab-df-convert {\n",
              "      background-color: #3B4455;\n",
              "      fill: #D2E3FC;\n",
              "    }\n",
              "\n",
              "    [theme=dark] .colab-df-convert:hover {\n",
              "      background-color: #434B5C;\n",
              "      box-shadow: 0px 1px 3px 1px rgba(0, 0, 0, 0.15);\n",
              "      filter: drop-shadow(0px 1px 2px rgba(0, 0, 0, 0.3));\n",
              "      fill: #FFFFFF;\n",
              "    }\n",
              "  </style>\n",
              "\n",
              "    <script>\n",
              "      const buttonEl =\n",
              "        document.querySelector('#df-46d78693-9d92-46c4-8fcd-8fc6bc9a15a6 button.colab-df-convert');\n",
              "      buttonEl.style.display =\n",
              "        google.colab.kernel.accessAllowed ? 'block' : 'none';\n",
              "\n",
              "      async function convertToInteractive(key) {\n",
              "        const element = document.querySelector('#df-46d78693-9d92-46c4-8fcd-8fc6bc9a15a6');\n",
              "        const dataTable =\n",
              "          await google.colab.kernel.invokeFunction('convertToInteractive',\n",
              "                                                    [key], {});\n",
              "        if (!dataTable) return;\n",
              "\n",
              "        const docLinkHtml = 'Like what you see? Visit the ' +\n",
              "          '<a target=\"_blank\" href=https://colab.research.google.com/notebooks/data_table.ipynb>data table notebook</a>'\n",
              "          + ' to learn more about interactive tables.';\n",
              "        element.innerHTML = '';\n",
              "        dataTable['output_type'] = 'display_data';\n",
              "        await google.colab.output.renderOutput(dataTable, element);\n",
              "        const docLink = document.createElement('div');\n",
              "        docLink.innerHTML = docLinkHtml;\n",
              "        element.appendChild(docLink);\n",
              "      }\n",
              "    </script>\n",
              "  </div>\n",
              "\n",
              "\n",
              "  <div id=\"id_fff58670-bcdd-46a5-93c2-621dee1b187e\">\n",
              "    <style>\n",
              "      .colab-df-generate {\n",
              "        background-color: #E8F0FE;\n",
              "        border: none;\n",
              "        border-radius: 50%;\n",
              "        cursor: pointer;\n",
              "        display: none;\n",
              "        fill: #1967D2;\n",
              "        height: 32px;\n",
              "        padding: 0 0 0 0;\n",
              "        width: 32px;\n",
              "      }\n",
              "\n",
              "      .colab-df-generate:hover {\n",
              "        background-color: #E2EBFA;\n",
              "        box-shadow: 0px 1px 2px rgba(60, 64, 67, 0.3), 0px 1px 3px 1px rgba(60, 64, 67, 0.15);\n",
              "        fill: #174EA6;\n",
              "      }\n",
              "\n",
              "      [theme=dark] .colab-df-generate {\n",
              "        background-color: #3B4455;\n",
              "        fill: #D2E3FC;\n",
              "      }\n",
              "\n",
              "      [theme=dark] .colab-df-generate:hover {\n",
              "        background-color: #434B5C;\n",
              "        box-shadow: 0px 1px 3px 1px rgba(0, 0, 0, 0.15);\n",
              "        filter: drop-shadow(0px 1px 2px rgba(0, 0, 0, 0.3));\n",
              "        fill: #FFFFFF;\n",
              "      }\n",
              "    </style>\n",
              "    <button class=\"colab-df-generate\" onclick=\"generateWithVariable('df')\"\n",
              "            title=\"Generate code using this dataframe.\"\n",
              "            style=\"display:none;\">\n",
              "\n",
              "  <svg xmlns=\"http://www.w3.org/2000/svg\" height=\"24px\"viewBox=\"0 0 24 24\"\n",
              "       width=\"24px\">\n",
              "    <path d=\"M7,19H8.4L18.45,9,17,7.55,7,17.6ZM5,21V16.75L18.45,3.32a2,2,0,0,1,2.83,0l1.4,1.43a1.91,1.91,0,0,1,.58,1.4,1.91,1.91,0,0,1-.58,1.4L9.25,21ZM18.45,9,17,7.55Zm-12,3A5.31,5.31,0,0,0,4.9,8.1,5.31,5.31,0,0,0,1,6.5,5.31,5.31,0,0,0,4.9,4.9,5.31,5.31,0,0,0,6.5,1,5.31,5.31,0,0,0,8.1,4.9,5.31,5.31,0,0,0,12,6.5,5.46,5.46,0,0,0,6.5,12Z\"/>\n",
              "  </svg>\n",
              "    </button>\n",
              "    <script>\n",
              "      (() => {\n",
              "      const buttonEl =\n",
              "        document.querySelector('#id_fff58670-bcdd-46a5-93c2-621dee1b187e button.colab-df-generate');\n",
              "      buttonEl.style.display =\n",
              "        google.colab.kernel.accessAllowed ? 'block' : 'none';\n",
              "\n",
              "      buttonEl.onclick = () => {\n",
              "        google.colab.notebook.generateWithVariable('df');\n",
              "      }\n",
              "      })();\n",
              "    </script>\n",
              "  </div>\n",
              "\n",
              "    </div>\n",
              "  </div>\n"
            ],
            "application/vnd.google.colaboratory.intrinsic+json": {
              "type": "dataframe",
              "variable_name": "df",
              "summary": "{\n  \"name\": \"df\",\n  \"rows\": 1,\n  \"fields\": [\n    {\n      \"column\": \"mean_relevancy_score\",\n      \"properties\": {\n        \"dtype\": \"number\",\n        \"std\": null,\n        \"min\": 0.8,\n        \"max\": 0.8,\n        \"num_unique_values\": 1,\n        \"samples\": [\n          0.8\n        ],\n        \"semantic_type\": \"\",\n        \"description\": \"\"\n      }\n    },\n    {\n      \"column\": \"mean_faithfulness_score\",\n      \"properties\": {\n        \"dtype\": \"number\",\n        \"std\": null,\n        \"min\": 1.0,\n        \"max\": 1.0,\n        \"num_unique_values\": 1,\n        \"samples\": [\n          1.0\n        ],\n        \"semantic_type\": \"\",\n        \"description\": \"\"\n      }\n    }\n  ]\n}"
            }
          },
          "metadata": {},
          "execution_count": 37
        }
      ]
    },
    {
      "cell_type": "markdown",
      "source": [
        "## Performance: Auto Merging Retriever"
      ],
      "metadata": {
        "id": "19PPPegGUGUu"
      }
    },
    {
      "cell_type": "code",
      "source": [
        "relevancy_correct = 0\n",
        "faithfulness_correct = 0\n",
        "correctness_correct = 0\n",
        "\n",
        "for pair in tqdm(qa_list):\n",
        "  question = pair['question']\n",
        "  answer = pair['answer']\n",
        "\n",
        "  response_vector = auto_merging_query_engine.query(question)\n",
        "\n",
        "  relevancy_eval_result = relevancy_evaluator.evaluate_response(query=question, response=response_vector)\n",
        "  faithfullness_eval_result = faithfulness_evaluator.evaluate_response(response=response_vector)\n",
        "  # correctness_eval_result = correctness_evaluator.evaluate(\n",
        "  #   query=question,\n",
        "  #   response=response_vector.response,\n",
        "  #   reference=answer,\n",
        "  # )\n",
        "\n",
        "  if relevancy_eval_result.passing:\n",
        "    relevancy_correct += 1\n",
        "  if faithfullness_eval_result.passing:\n",
        "    faithfulness_correct += 1\n",
        "  # if correctness_eval_result.passing:\n",
        "  #   correctness_correct += 1\n",
        "\n",
        "relevancy_score = relevancy_correct/len(qa_list)\n",
        "faithfulness_score = faithfulness_correct/len(qa_list)\n",
        "# correctness_score = correctness_correct/len(qa_list)"
      ],
      "metadata": {
        "id": "O67Ea9-uEnDG"
      },
      "execution_count": null,
      "outputs": []
    },
    {
      "cell_type": "code",
      "source": [
        "import pandas as pd\n",
        "df = {'mean_relevancy_score': [relevancy_score], 'mean_faithfulness_score': [faithfulness_score]}\n",
        "df = pd.DataFrame(df)\n",
        "df"
      ],
      "metadata": {
        "colab": {
          "base_uri": "https://localhost:8080/",
          "height": 89
        },
        "id": "jvd-Zz8RF528",
        "outputId": "4730245f-6956-446b-8342-ae48f39b13da"
      },
      "execution_count": 40,
      "outputs": [
        {
          "output_type": "execute_result",
          "data": {
            "text/plain": [
              "   mean_relevancy_score  mean_faithfulness_score\n",
              "0                   1.0                      0.6"
            ],
            "text/html": [
              "\n",
              "  <div id=\"df-c51cb8c3-06f4-4be7-86d7-65318a01465a\" class=\"colab-df-container\">\n",
              "    <div>\n",
              "<style scoped>\n",
              "    .dataframe tbody tr th:only-of-type {\n",
              "        vertical-align: middle;\n",
              "    }\n",
              "\n",
              "    .dataframe tbody tr th {\n",
              "        vertical-align: top;\n",
              "    }\n",
              "\n",
              "    .dataframe thead th {\n",
              "        text-align: right;\n",
              "    }\n",
              "</style>\n",
              "<table border=\"1\" class=\"dataframe\">\n",
              "  <thead>\n",
              "    <tr style=\"text-align: right;\">\n",
              "      <th></th>\n",
              "      <th>mean_relevancy_score</th>\n",
              "      <th>mean_faithfulness_score</th>\n",
              "    </tr>\n",
              "  </thead>\n",
              "  <tbody>\n",
              "    <tr>\n",
              "      <th>0</th>\n",
              "      <td>1.0</td>\n",
              "      <td>0.6</td>\n",
              "    </tr>\n",
              "  </tbody>\n",
              "</table>\n",
              "</div>\n",
              "    <div class=\"colab-df-buttons\">\n",
              "\n",
              "  <div class=\"colab-df-container\">\n",
              "    <button class=\"colab-df-convert\" onclick=\"convertToInteractive('df-c51cb8c3-06f4-4be7-86d7-65318a01465a')\"\n",
              "            title=\"Convert this dataframe to an interactive table.\"\n",
              "            style=\"display:none;\">\n",
              "\n",
              "  <svg xmlns=\"http://www.w3.org/2000/svg\" height=\"24px\" viewBox=\"0 -960 960 960\">\n",
              "    <path d=\"M120-120v-720h720v720H120Zm60-500h600v-160H180v160Zm220 220h160v-160H400v160Zm0 220h160v-160H400v160ZM180-400h160v-160H180v160Zm440 0h160v-160H620v160ZM180-180h160v-160H180v160Zm440 0h160v-160H620v160Z\"/>\n",
              "  </svg>\n",
              "    </button>\n",
              "\n",
              "  <style>\n",
              "    .colab-df-container {\n",
              "      display:flex;\n",
              "      gap: 12px;\n",
              "    }\n",
              "\n",
              "    .colab-df-convert {\n",
              "      background-color: #E8F0FE;\n",
              "      border: none;\n",
              "      border-radius: 50%;\n",
              "      cursor: pointer;\n",
              "      display: none;\n",
              "      fill: #1967D2;\n",
              "      height: 32px;\n",
              "      padding: 0 0 0 0;\n",
              "      width: 32px;\n",
              "    }\n",
              "\n",
              "    .colab-df-convert:hover {\n",
              "      background-color: #E2EBFA;\n",
              "      box-shadow: 0px 1px 2px rgba(60, 64, 67, 0.3), 0px 1px 3px 1px rgba(60, 64, 67, 0.15);\n",
              "      fill: #174EA6;\n",
              "    }\n",
              "\n",
              "    .colab-df-buttons div {\n",
              "      margin-bottom: 4px;\n",
              "    }\n",
              "\n",
              "    [theme=dark] .colab-df-convert {\n",
              "      background-color: #3B4455;\n",
              "      fill: #D2E3FC;\n",
              "    }\n",
              "\n",
              "    [theme=dark] .colab-df-convert:hover {\n",
              "      background-color: #434B5C;\n",
              "      box-shadow: 0px 1px 3px 1px rgba(0, 0, 0, 0.15);\n",
              "      filter: drop-shadow(0px 1px 2px rgba(0, 0, 0, 0.3));\n",
              "      fill: #FFFFFF;\n",
              "    }\n",
              "  </style>\n",
              "\n",
              "    <script>\n",
              "      const buttonEl =\n",
              "        document.querySelector('#df-c51cb8c3-06f4-4be7-86d7-65318a01465a button.colab-df-convert');\n",
              "      buttonEl.style.display =\n",
              "        google.colab.kernel.accessAllowed ? 'block' : 'none';\n",
              "\n",
              "      async function convertToInteractive(key) {\n",
              "        const element = document.querySelector('#df-c51cb8c3-06f4-4be7-86d7-65318a01465a');\n",
              "        const dataTable =\n",
              "          await google.colab.kernel.invokeFunction('convertToInteractive',\n",
              "                                                    [key], {});\n",
              "        if (!dataTable) return;\n",
              "\n",
              "        const docLinkHtml = 'Like what you see? Visit the ' +\n",
              "          '<a target=\"_blank\" href=https://colab.research.google.com/notebooks/data_table.ipynb>data table notebook</a>'\n",
              "          + ' to learn more about interactive tables.';\n",
              "        element.innerHTML = '';\n",
              "        dataTable['output_type'] = 'display_data';\n",
              "        await google.colab.output.renderOutput(dataTable, element);\n",
              "        const docLink = document.createElement('div');\n",
              "        docLink.innerHTML = docLinkHtml;\n",
              "        element.appendChild(docLink);\n",
              "      }\n",
              "    </script>\n",
              "  </div>\n",
              "\n",
              "\n",
              "  <div id=\"id_4dc1e10e-c368-4a25-bedb-4c89b51991af\">\n",
              "    <style>\n",
              "      .colab-df-generate {\n",
              "        background-color: #E8F0FE;\n",
              "        border: none;\n",
              "        border-radius: 50%;\n",
              "        cursor: pointer;\n",
              "        display: none;\n",
              "        fill: #1967D2;\n",
              "        height: 32px;\n",
              "        padding: 0 0 0 0;\n",
              "        width: 32px;\n",
              "      }\n",
              "\n",
              "      .colab-df-generate:hover {\n",
              "        background-color: #E2EBFA;\n",
              "        box-shadow: 0px 1px 2px rgba(60, 64, 67, 0.3), 0px 1px 3px 1px rgba(60, 64, 67, 0.15);\n",
              "        fill: #174EA6;\n",
              "      }\n",
              "\n",
              "      [theme=dark] .colab-df-generate {\n",
              "        background-color: #3B4455;\n",
              "        fill: #D2E3FC;\n",
              "      }\n",
              "\n",
              "      [theme=dark] .colab-df-generate:hover {\n",
              "        background-color: #434B5C;\n",
              "        box-shadow: 0px 1px 3px 1px rgba(0, 0, 0, 0.15);\n",
              "        filter: drop-shadow(0px 1px 2px rgba(0, 0, 0, 0.3));\n",
              "        fill: #FFFFFF;\n",
              "      }\n",
              "    </style>\n",
              "    <button class=\"colab-df-generate\" onclick=\"generateWithVariable('df')\"\n",
              "            title=\"Generate code using this dataframe.\"\n",
              "            style=\"display:none;\">\n",
              "\n",
              "  <svg xmlns=\"http://www.w3.org/2000/svg\" height=\"24px\"viewBox=\"0 0 24 24\"\n",
              "       width=\"24px\">\n",
              "    <path d=\"M7,19H8.4L18.45,9,17,7.55,7,17.6ZM5,21V16.75L18.45,3.32a2,2,0,0,1,2.83,0l1.4,1.43a1.91,1.91,0,0,1,.58,1.4,1.91,1.91,0,0,1-.58,1.4L9.25,21ZM18.45,9,17,7.55Zm-12,3A5.31,5.31,0,0,0,4.9,8.1,5.31,5.31,0,0,0,1,6.5,5.31,5.31,0,0,0,4.9,4.9,5.31,5.31,0,0,0,6.5,1,5.31,5.31,0,0,0,8.1,4.9,5.31,5.31,0,0,0,12,6.5,5.46,5.46,0,0,0,6.5,12Z\"/>\n",
              "  </svg>\n",
              "    </button>\n",
              "    <script>\n",
              "      (() => {\n",
              "      const buttonEl =\n",
              "        document.querySelector('#id_4dc1e10e-c368-4a25-bedb-4c89b51991af button.colab-df-generate');\n",
              "      buttonEl.style.display =\n",
              "        google.colab.kernel.accessAllowed ? 'block' : 'none';\n",
              "\n",
              "      buttonEl.onclick = () => {\n",
              "        google.colab.notebook.generateWithVariable('df');\n",
              "      }\n",
              "      })();\n",
              "    </script>\n",
              "  </div>\n",
              "\n",
              "    </div>\n",
              "  </div>\n"
            ],
            "application/vnd.google.colaboratory.intrinsic+json": {
              "type": "dataframe",
              "variable_name": "df",
              "summary": "{\n  \"name\": \"df\",\n  \"rows\": 1,\n  \"fields\": [\n    {\n      \"column\": \"mean_relevancy_score\",\n      \"properties\": {\n        \"dtype\": \"number\",\n        \"std\": null,\n        \"min\": 1.0,\n        \"max\": 1.0,\n        \"num_unique_values\": 1,\n        \"samples\": [\n          1.0\n        ],\n        \"semantic_type\": \"\",\n        \"description\": \"\"\n      }\n    },\n    {\n      \"column\": \"mean_faithfulness_score\",\n      \"properties\": {\n        \"dtype\": \"number\",\n        \"std\": null,\n        \"min\": 0.6,\n        \"max\": 0.6,\n        \"num_unique_values\": 1,\n        \"samples\": [\n          0.6\n        ],\n        \"semantic_type\": \"\",\n        \"description\": \"\"\n      }\n    }\n  ]\n}"
            }
          },
          "metadata": {},
          "execution_count": 40
        }
      ]
    },
    {
      "cell_type": "markdown",
      "source": [
        "## Performance: Auto Retriever"
      ],
      "metadata": {
        "id": "YoF2DiR6UL1g"
      }
    },
    {
      "cell_type": "code",
      "source": [
        "relevancy_correct = 0\n",
        "faithfulness_correct = 0\n",
        "correctness_correct = 0\n",
        "\n",
        "for pair in tqdm(qa_list):\n",
        "  question = pair['question']\n",
        "  answer = pair['answer']\n",
        "\n",
        "  response_vector = auto_query_engine.query(question)\n",
        "\n",
        "  relevancy_eval_result = relevancy_evaluator.evaluate_response(query=question, response=response_vector)\n",
        "  faithfullness_eval_result = faithfulness_evaluator.evaluate_response(response=response_vector)\n",
        "  # correctness_eval_result = correctness_evaluator.evaluate(\n",
        "  #   query=question,\n",
        "  #   response=response_vector.response,\n",
        "  #   reference=answer,\n",
        "  # )\n",
        "\n",
        "  if relevancy_eval_result.passing:\n",
        "    relevancy_correct += 1\n",
        "  if faithfullness_eval_result.passing:\n",
        "    faithfulness_correct += 1\n",
        "  # if correctness_eval_result.passing:\n",
        "  #   correctness_correct += 1\n",
        "\n",
        "relevancy_score = relevancy_correct/len(qa_list)\n",
        "faithfulness_score = faithfulness_correct/len(qa_list)\n",
        "# correctness_score = correctness_correct/len(qa_list)"
      ],
      "metadata": {
        "id": "SOu10hATEnPo"
      },
      "execution_count": null,
      "outputs": []
    },
    {
      "cell_type": "code",
      "source": [
        "import pandas as pd\n",
        "df = {'mean_relevancy_score': [relevancy_score], 'mean_faithfulness_score': [faithfulness_score]}\n",
        "df = pd.DataFrame(df)\n",
        "df"
      ],
      "metadata": {
        "colab": {
          "base_uri": "https://localhost:8080/",
          "height": 89
        },
        "id": "9BcQ6HTHGDu_",
        "outputId": "3c890733-2e06-4fdd-bb95-369f7f6b10b7"
      },
      "execution_count": 42,
      "outputs": [
        {
          "output_type": "execute_result",
          "data": {
            "text/plain": [
              "   mean_relevancy_score  mean_faithfulness_score\n",
              "0                   0.4                      0.4"
            ],
            "text/html": [
              "\n",
              "  <div id=\"df-a5d80367-0361-4072-871b-231f45e704e2\" class=\"colab-df-container\">\n",
              "    <div>\n",
              "<style scoped>\n",
              "    .dataframe tbody tr th:only-of-type {\n",
              "        vertical-align: middle;\n",
              "    }\n",
              "\n",
              "    .dataframe tbody tr th {\n",
              "        vertical-align: top;\n",
              "    }\n",
              "\n",
              "    .dataframe thead th {\n",
              "        text-align: right;\n",
              "    }\n",
              "</style>\n",
              "<table border=\"1\" class=\"dataframe\">\n",
              "  <thead>\n",
              "    <tr style=\"text-align: right;\">\n",
              "      <th></th>\n",
              "      <th>mean_relevancy_score</th>\n",
              "      <th>mean_faithfulness_score</th>\n",
              "    </tr>\n",
              "  </thead>\n",
              "  <tbody>\n",
              "    <tr>\n",
              "      <th>0</th>\n",
              "      <td>0.4</td>\n",
              "      <td>0.4</td>\n",
              "    </tr>\n",
              "  </tbody>\n",
              "</table>\n",
              "</div>\n",
              "    <div class=\"colab-df-buttons\">\n",
              "\n",
              "  <div class=\"colab-df-container\">\n",
              "    <button class=\"colab-df-convert\" onclick=\"convertToInteractive('df-a5d80367-0361-4072-871b-231f45e704e2')\"\n",
              "            title=\"Convert this dataframe to an interactive table.\"\n",
              "            style=\"display:none;\">\n",
              "\n",
              "  <svg xmlns=\"http://www.w3.org/2000/svg\" height=\"24px\" viewBox=\"0 -960 960 960\">\n",
              "    <path d=\"M120-120v-720h720v720H120Zm60-500h600v-160H180v160Zm220 220h160v-160H400v160Zm0 220h160v-160H400v160ZM180-400h160v-160H180v160Zm440 0h160v-160H620v160ZM180-180h160v-160H180v160Zm440 0h160v-160H620v160Z\"/>\n",
              "  </svg>\n",
              "    </button>\n",
              "\n",
              "  <style>\n",
              "    .colab-df-container {\n",
              "      display:flex;\n",
              "      gap: 12px;\n",
              "    }\n",
              "\n",
              "    .colab-df-convert {\n",
              "      background-color: #E8F0FE;\n",
              "      border: none;\n",
              "      border-radius: 50%;\n",
              "      cursor: pointer;\n",
              "      display: none;\n",
              "      fill: #1967D2;\n",
              "      height: 32px;\n",
              "      padding: 0 0 0 0;\n",
              "      width: 32px;\n",
              "    }\n",
              "\n",
              "    .colab-df-convert:hover {\n",
              "      background-color: #E2EBFA;\n",
              "      box-shadow: 0px 1px 2px rgba(60, 64, 67, 0.3), 0px 1px 3px 1px rgba(60, 64, 67, 0.15);\n",
              "      fill: #174EA6;\n",
              "    }\n",
              "\n",
              "    .colab-df-buttons div {\n",
              "      margin-bottom: 4px;\n",
              "    }\n",
              "\n",
              "    [theme=dark] .colab-df-convert {\n",
              "      background-color: #3B4455;\n",
              "      fill: #D2E3FC;\n",
              "    }\n",
              "\n",
              "    [theme=dark] .colab-df-convert:hover {\n",
              "      background-color: #434B5C;\n",
              "      box-shadow: 0px 1px 3px 1px rgba(0, 0, 0, 0.15);\n",
              "      filter: drop-shadow(0px 1px 2px rgba(0, 0, 0, 0.3));\n",
              "      fill: #FFFFFF;\n",
              "    }\n",
              "  </style>\n",
              "\n",
              "    <script>\n",
              "      const buttonEl =\n",
              "        document.querySelector('#df-a5d80367-0361-4072-871b-231f45e704e2 button.colab-df-convert');\n",
              "      buttonEl.style.display =\n",
              "        google.colab.kernel.accessAllowed ? 'block' : 'none';\n",
              "\n",
              "      async function convertToInteractive(key) {\n",
              "        const element = document.querySelector('#df-a5d80367-0361-4072-871b-231f45e704e2');\n",
              "        const dataTable =\n",
              "          await google.colab.kernel.invokeFunction('convertToInteractive',\n",
              "                                                    [key], {});\n",
              "        if (!dataTable) return;\n",
              "\n",
              "        const docLinkHtml = 'Like what you see? Visit the ' +\n",
              "          '<a target=\"_blank\" href=https://colab.research.google.com/notebooks/data_table.ipynb>data table notebook</a>'\n",
              "          + ' to learn more about interactive tables.';\n",
              "        element.innerHTML = '';\n",
              "        dataTable['output_type'] = 'display_data';\n",
              "        await google.colab.output.renderOutput(dataTable, element);\n",
              "        const docLink = document.createElement('div');\n",
              "        docLink.innerHTML = docLinkHtml;\n",
              "        element.appendChild(docLink);\n",
              "      }\n",
              "    </script>\n",
              "  </div>\n",
              "\n",
              "\n",
              "  <div id=\"id_9b7a5f3e-ac2f-470c-8d1c-4944c488fec5\">\n",
              "    <style>\n",
              "      .colab-df-generate {\n",
              "        background-color: #E8F0FE;\n",
              "        border: none;\n",
              "        border-radius: 50%;\n",
              "        cursor: pointer;\n",
              "        display: none;\n",
              "        fill: #1967D2;\n",
              "        height: 32px;\n",
              "        padding: 0 0 0 0;\n",
              "        width: 32px;\n",
              "      }\n",
              "\n",
              "      .colab-df-generate:hover {\n",
              "        background-color: #E2EBFA;\n",
              "        box-shadow: 0px 1px 2px rgba(60, 64, 67, 0.3), 0px 1px 3px 1px rgba(60, 64, 67, 0.15);\n",
              "        fill: #174EA6;\n",
              "      }\n",
              "\n",
              "      [theme=dark] .colab-df-generate {\n",
              "        background-color: #3B4455;\n",
              "        fill: #D2E3FC;\n",
              "      }\n",
              "\n",
              "      [theme=dark] .colab-df-generate:hover {\n",
              "        background-color: #434B5C;\n",
              "        box-shadow: 0px 1px 3px 1px rgba(0, 0, 0, 0.15);\n",
              "        filter: drop-shadow(0px 1px 2px rgba(0, 0, 0, 0.3));\n",
              "        fill: #FFFFFF;\n",
              "      }\n",
              "    </style>\n",
              "    <button class=\"colab-df-generate\" onclick=\"generateWithVariable('df')\"\n",
              "            title=\"Generate code using this dataframe.\"\n",
              "            style=\"display:none;\">\n",
              "\n",
              "  <svg xmlns=\"http://www.w3.org/2000/svg\" height=\"24px\"viewBox=\"0 0 24 24\"\n",
              "       width=\"24px\">\n",
              "    <path d=\"M7,19H8.4L18.45,9,17,7.55,7,17.6ZM5,21V16.75L18.45,3.32a2,2,0,0,1,2.83,0l1.4,1.43a1.91,1.91,0,0,1,.58,1.4,1.91,1.91,0,0,1-.58,1.4L9.25,21ZM18.45,9,17,7.55Zm-12,3A5.31,5.31,0,0,0,4.9,8.1,5.31,5.31,0,0,0,1,6.5,5.31,5.31,0,0,0,4.9,4.9,5.31,5.31,0,0,0,6.5,1,5.31,5.31,0,0,0,8.1,4.9,5.31,5.31,0,0,0,12,6.5,5.46,5.46,0,0,0,6.5,12Z\"/>\n",
              "  </svg>\n",
              "    </button>\n",
              "    <script>\n",
              "      (() => {\n",
              "      const buttonEl =\n",
              "        document.querySelector('#id_9b7a5f3e-ac2f-470c-8d1c-4944c488fec5 button.colab-df-generate');\n",
              "      buttonEl.style.display =\n",
              "        google.colab.kernel.accessAllowed ? 'block' : 'none';\n",
              "\n",
              "      buttonEl.onclick = () => {\n",
              "        google.colab.notebook.generateWithVariable('df');\n",
              "      }\n",
              "      })();\n",
              "    </script>\n",
              "  </div>\n",
              "\n",
              "    </div>\n",
              "  </div>\n"
            ],
            "application/vnd.google.colaboratory.intrinsic+json": {
              "type": "dataframe",
              "variable_name": "df",
              "summary": "{\n  \"name\": \"df\",\n  \"rows\": 1,\n  \"fields\": [\n    {\n      \"column\": \"mean_relevancy_score\",\n      \"properties\": {\n        \"dtype\": \"number\",\n        \"std\": null,\n        \"min\": 0.4,\n        \"max\": 0.4,\n        \"num_unique_values\": 1,\n        \"samples\": [\n          0.4\n        ],\n        \"semantic_type\": \"\",\n        \"description\": \"\"\n      }\n    },\n    {\n      \"column\": \"mean_faithfulness_score\",\n      \"properties\": {\n        \"dtype\": \"number\",\n        \"std\": null,\n        \"min\": 0.4,\n        \"max\": 0.4,\n        \"num_unique_values\": 1,\n        \"samples\": [\n          0.4\n        ],\n        \"semantic_type\": \"\",\n        \"description\": \"\"\n      }\n    }\n  ]\n}"
            }
          },
          "metadata": {},
          "execution_count": 42
        }
      ]
    },
    {
      "cell_type": "markdown",
      "source": [
        "## Sub Question Query Engine"
      ],
      "metadata": {
        "id": "V2M-j_5sHdyt"
      }
    },
    {
      "cell_type": "code",
      "source": [
        "documents_2023 = loader.load_data(file=Path('/content/drive/MyDrive/Gen AI/RAG/annual_filings/0000021344-23-000011.pdf'))\n",
        "documents_2022 = loader.load_data(file=Path('/content/drive/MyDrive/Gen AI/RAG/annual_filings/0000021344-22-000009.pdf'))"
      ],
      "metadata": {
        "id": "x_jdd6AuHDPF"
      },
      "execution_count": 43,
      "outputs": []
    },
    {
      "cell_type": "code",
      "source": [
        "index_2023 = VectorStoreIndex.from_documents(documents_2023)\n",
        "index_2022 = VectorStoreIndex.from_documents(documents_2022)"
      ],
      "metadata": {
        "id": "fJjJjT-1IdQ1"
      },
      "execution_count": null,
      "outputs": []
    },
    {
      "cell_type": "code",
      "source": [
        "engine_2023 = index_2023.as_query_engine(similarity_top_k=3)\n",
        "engine_2022 = index_2022.as_query_engine(similarity_top_k=3)"
      ],
      "metadata": {
        "id": "oTqXksz0I9B_"
      },
      "execution_count": 45,
      "outputs": []
    },
    {
      "cell_type": "code",
      "source": [
        "from llama_index.core.tools import QueryEngineTool, ToolMetadata\n",
        "from llama_index.core.query_engine import SubQuestionQueryEngine"
      ],
      "metadata": {
        "id": "NH8Aip5xLBfH"
      },
      "execution_count": 46,
      "outputs": []
    },
    {
      "cell_type": "code",
      "source": [
        "query_engine_tools = [\n",
        "    QueryEngineTool(\n",
        "        query_engine=engine_2023,\n",
        "        metadata=ToolMetadata(name='engine_2023', description='Provides information about Coca-Cola 10-K filings for the year 2023')\n",
        "    ),\n",
        "    QueryEngineTool(\n",
        "        query_engine=engine_2022,\n",
        "        metadata=ToolMetadata(name='engine_2022', description='Provides information about Coca-Cola 10-K filings for year 2022')\n",
        "    ),\n",
        "]\n",
        "\n",
        "s_engine = SubQuestionQueryEngine.from_defaults(query_engine_tools=query_engine_tools)"
      ],
      "metadata": {
        "id": "g6BLAyVfJwEP"
      },
      "execution_count": 47,
      "outputs": []
    },
    {
      "cell_type": "code",
      "source": [
        "response = await s_engine.aquery(\"Compare Coca-Cola's revenue growth from 2020 to 2021 and 2021 to 2022.\")"
      ],
      "metadata": {
        "colab": {
          "base_uri": "https://localhost:8080/"
        },
        "id": "JBXHih6iLmGF",
        "outputId": "01dbd9d1-5e39-4ee9-e32d-047184a13291"
      },
      "execution_count": 50,
      "outputs": [
        {
          "output_type": "stream",
          "name": "stdout",
          "text": [
            "HTTP Request: POST https://api.openai.com/v1/chat/completions \"HTTP/1.1 200 OK\"\n",
            "HTTP Request: POST https://api.openai.com/v1/chat/completions \"HTTP/1.1 200 OK\"\n",
            "Generated 3 sub questions.\n",
            "\u001b[1;3;38;2;237;90;200m[engine_2022] Q: What was Coca-Cola's revenue in 2020?\n",
            "\u001b[0m\u001b[1;3;38;2;90;149;237m[engine_2022] Q: What was Coca-Cola's revenue in 2021?\n",
            "\u001b[0m\u001b[1;3;38;2;11;159;203m[engine_2023] Q: What was Coca-Cola's revenue in 2022?\n",
            "\u001b[0mHTTP Request: POST https://api.openai.com/v1/embeddings \"HTTP/1.1 200 OK\"\n",
            "HTTP Request: POST https://api.openai.com/v1/embeddings \"HTTP/1.1 200 OK\"\n",
            "HTTP Request: POST https://api.openai.com/v1/embeddings \"HTTP/1.1 200 OK\"\n",
            "HTTP Request: POST https://api.openai.com/v1/embeddings \"HTTP/1.1 200 OK\"\n",
            "HTTP Request: POST https://api.openai.com/v1/embeddings \"HTTP/1.1 200 OK\"\n",
            "HTTP Request: POST https://api.openai.com/v1/embeddings \"HTTP/1.1 200 OK\"\n",
            "HTTP Request: POST https://api.openai.com/v1/chat/completions \"HTTP/1.1 429 Too Many Requests\"\n",
            "HTTP Request: POST https://api.openai.com/v1/chat/completions \"HTTP/1.1 429 Too Many Requests\"\n",
            "Retrying request to /chat/completions in 20.000000 seconds\n",
            "Retrying request to /chat/completions in 20.000000 seconds\n",
            "HTTP Request: POST https://api.openai.com/v1/chat/completions \"HTTP/1.1 200 OK\"\n",
            "HTTP Request: POST https://api.openai.com/v1/chat/completions \"HTTP/1.1 200 OK\"\n",
            "\u001b[1;3;38;2;90;149;237m[engine_2022] A: Coca-Cola's revenue in 2021 was $38,655 million.\n",
            "\u001b[0mHTTP Request: POST https://api.openai.com/v1/chat/completions \"HTTP/1.1 200 OK\"\n",
            "HTTP Request: POST https://api.openai.com/v1/chat/completions \"HTTP/1.1 200 OK\"\n",
            "\u001b[1;3;38;2;11;159;203m[engine_2023] A: Coca-Cola's revenue in 2022 was $43,004 million.\n",
            "\u001b[0mHTTP Request: POST https://api.openai.com/v1/chat/completions \"HTTP/1.1 200 OK\"\n",
            "HTTP Request: POST https://api.openai.com/v1/chat/completions \"HTTP/1.1 200 OK\"\n",
            "\u001b[1;3;38;2;237;90;200m[engine_2022] A: Coca-Cola's revenue in 2020 was $33,014 million.\n",
            "\u001b[0mHTTP Request: POST https://api.openai.com/v1/chat/completions \"HTTP/1.1 429 Too Many Requests\"\n",
            "HTTP Request: POST https://api.openai.com/v1/chat/completions \"HTTP/1.1 429 Too Many Requests\"\n",
            "Retrying request to /chat/completions in 20.000000 seconds\n",
            "Retrying request to /chat/completions in 20.000000 seconds\n",
            "HTTP Request: POST https://api.openai.com/v1/chat/completions \"HTTP/1.1 200 OK\"\n",
            "HTTP Request: POST https://api.openai.com/v1/chat/completions \"HTTP/1.1 200 OK\"\n"
          ]
        }
      ]
    },
    {
      "cell_type": "code",
      "source": [
        "print(response)"
      ],
      "metadata": {
        "colab": {
          "base_uri": "https://localhost:8080/"
        },
        "id": "vLl5sIl_Msdc",
        "outputId": "cb92578f-b98e-4def-ba79-741265cb7af0"
      },
      "execution_count": 51,
      "outputs": [
        {
          "output_type": "stream",
          "name": "stdout",
          "text": [
            "Coca-Cola's revenue grew by $5,641 million from 2020 to 2021 and by $4,349 million from 2021 to 2022.\n"
          ]
        }
      ]
    },
    {
      "cell_type": "code",
      "source": [
        "response = await s_engine.aquery(\"How did Coca-Cola's operating expenses change between 2021 and 2022?\")"
      ],
      "metadata": {
        "colab": {
          "base_uri": "https://localhost:8080/"
        },
        "id": "Wbgg6tYZM7za",
        "outputId": "f4d0e458-d09a-4588-965a-fa00e0e56e68"
      },
      "execution_count": 52,
      "outputs": [
        {
          "output_type": "stream",
          "name": "stdout",
          "text": [
            "HTTP Request: POST https://api.openai.com/v1/chat/completions \"HTTP/1.1 200 OK\"\n",
            "HTTP Request: POST https://api.openai.com/v1/chat/completions \"HTTP/1.1 200 OK\"\n",
            "Generated 2 sub questions.\n",
            "\u001b[1;3;38;2;237;90;200m[engine_2022] Q: What were Coca-Cola's operating expenses in 2021?\n",
            "\u001b[0m\u001b[1;3;38;2;90;149;237m[engine_2023] Q: What were Coca-Cola's operating expenses in 2022?\n",
            "\u001b[0mHTTP Request: POST https://api.openai.com/v1/embeddings \"HTTP/1.1 200 OK\"\n",
            "HTTP Request: POST https://api.openai.com/v1/embeddings \"HTTP/1.1 200 OK\"\n",
            "HTTP Request: POST https://api.openai.com/v1/embeddings \"HTTP/1.1 200 OK\"\n",
            "HTTP Request: POST https://api.openai.com/v1/embeddings \"HTTP/1.1 200 OK\"\n",
            "HTTP Request: POST https://api.openai.com/v1/chat/completions \"HTTP/1.1 429 Too Many Requests\"\n",
            "HTTP Request: POST https://api.openai.com/v1/chat/completions \"HTTP/1.1 429 Too Many Requests\"\n",
            "Retrying request to /chat/completions in 20.000000 seconds\n",
            "Retrying request to /chat/completions in 20.000000 seconds\n",
            "HTTP Request: POST https://api.openai.com/v1/chat/completions \"HTTP/1.1 429 Too Many Requests\"\n",
            "HTTP Request: POST https://api.openai.com/v1/chat/completions \"HTTP/1.1 429 Too Many Requests\"\n",
            "Retrying request to /chat/completions in 20.000000 seconds\n",
            "Retrying request to /chat/completions in 20.000000 seconds\n",
            "HTTP Request: POST https://api.openai.com/v1/chat/completions \"HTTP/1.1 429 Too Many Requests\"\n",
            "HTTP Request: POST https://api.openai.com/v1/chat/completions \"HTTP/1.1 429 Too Many Requests\"\n",
            "Retrying request to /chat/completions in 20.000000 seconds\n",
            "Retrying request to /chat/completions in 20.000000 seconds\n",
            "HTTP Request: POST https://api.openai.com/v1/chat/completions \"HTTP/1.1 200 OK\"\n",
            "HTTP Request: POST https://api.openai.com/v1/chat/completions \"HTTP/1.1 200 OK\"\n",
            "\u001b[1;3;38;2;90;149;237m[engine_2023] A: Coca-Cola's operating expenses in 2022 were $14,095 million.\n",
            "\u001b[0mHTTP Request: POST https://api.openai.com/v1/chat/completions \"HTTP/1.1 200 OK\"\n",
            "HTTP Request: POST https://api.openai.com/v1/chat/completions \"HTTP/1.1 200 OK\"\n",
            "\u001b[1;3;38;2;237;90;200m[engine_2022] A: Coca-Cola's operating expenses in 2021 were $12,144 million.\n",
            "\u001b[0mHTTP Request: POST https://api.openai.com/v1/chat/completions \"HTTP/1.1 429 Too Many Requests\"\n",
            "HTTP Request: POST https://api.openai.com/v1/chat/completions \"HTTP/1.1 429 Too Many Requests\"\n",
            "Retrying request to /chat/completions in 20.000000 seconds\n",
            "Retrying request to /chat/completions in 20.000000 seconds\n",
            "HTTP Request: POST https://api.openai.com/v1/chat/completions \"HTTP/1.1 200 OK\"\n",
            "HTTP Request: POST https://api.openai.com/v1/chat/completions \"HTTP/1.1 200 OK\"\n"
          ]
        }
      ]
    },
    {
      "cell_type": "code",
      "source": [
        "print(response)"
      ],
      "metadata": {
        "colab": {
          "base_uri": "https://localhost:8080/"
        },
        "id": "ulngVz40NW2W",
        "outputId": "45ffda64-f20e-45b5-e79e-8eedb6d26aa9"
      },
      "execution_count": 53,
      "outputs": [
        {
          "output_type": "stream",
          "name": "stdout",
          "text": [
            "Coca-Cola's operating expenses increased by $1,951 million from 2021 to 2022.\n"
          ]
        }
      ]
    },
    {
      "cell_type": "code",
      "source": [
        "response = await s_engine.aquery(\"What were Coca-Cola’s major geographical market performances in 2021 versus 2022?\")"
      ],
      "metadata": {
        "colab": {
          "base_uri": "https://localhost:8080/"
        },
        "id": "w6foN9Y4NvIA",
        "outputId": "90dbaa18-a34f-4a6e-a72c-390d64adc398"
      },
      "execution_count": 54,
      "outputs": [
        {
          "output_type": "stream",
          "name": "stdout",
          "text": [
            "HTTP Request: POST https://api.openai.com/v1/chat/completions \"HTTP/1.1 200 OK\"\n",
            "HTTP Request: POST https://api.openai.com/v1/chat/completions \"HTTP/1.1 200 OK\"\n",
            "Generated 2 sub questions.\n",
            "\u001b[1;3;38;2;237;90;200m[engine_2022] Q: What were Coca-Cola’s major geographical market performances in 2021?\n",
            "\u001b[0m\u001b[1;3;38;2;90;149;237m[engine_2023] Q: What were Coca-Cola’s major geographical market performances in 2022?\n",
            "\u001b[0mHTTP Request: POST https://api.openai.com/v1/embeddings \"HTTP/1.1 200 OK\"\n",
            "HTTP Request: POST https://api.openai.com/v1/embeddings \"HTTP/1.1 200 OK\"\n",
            "HTTP Request: POST https://api.openai.com/v1/embeddings \"HTTP/1.1 200 OK\"\n",
            "HTTP Request: POST https://api.openai.com/v1/embeddings \"HTTP/1.1 200 OK\"\n",
            "HTTP Request: POST https://api.openai.com/v1/chat/completions \"HTTP/1.1 200 OK\"\n",
            "HTTP Request: POST https://api.openai.com/v1/chat/completions \"HTTP/1.1 200 OK\"\n",
            "\u001b[1;3;38;2;90;149;237m[engine_2023] A: Coca-Cola's major geographical market performances in 2022 included:\n",
            "- Europe, Middle East, and Africa: 3% increase in unit case volume, with growth in various categories offset by a decline in juice and plant-based beverages.\n",
            "- Latin America: 6% increase in unit case volume, with growth across different categories, including Trademark Coca-Cola, water, sports, coffee, tea, and juice.\n",
            "- North America: 2% increase in unit case volume, with growth in Trademark Coca-Cola, sparkling flavors, and juice.\n",
            "- Asia Pacific: 6% increase in unit case volume, with growth in sparkling flavors, Trademark Coca-Cola, water, sports, coffee, tea, and juice.\n",
            "- Global Ventures: 13% increase in unit case volume, primarily driven by growth in water, sports, coffee, tea, and energy drinks.\n",
            "- Bottling Investments: 12% increase in unit case volume, reflecting growth in India, South Africa, and Vietnam.\n",
            "\u001b[0mHTTP Request: POST https://api.openai.com/v1/chat/completions \"HTTP/1.1 200 OK\"\n",
            "HTTP Request: POST https://api.openai.com/v1/chat/completions \"HTTP/1.1 200 OK\"\n",
            "\u001b[1;3;38;2;237;90;200m[engine_2022] A: Coca-Cola's major geographical market performances in 2021 were as follows:\n",
            "- Europe, Middle East & Africa: 9% increase in unit case volume, with growth in all categories.\n",
            "- Latin America: 6% increase in unit case volume, with growth in various categories across different countries.\n",
            "- North America: 5% increase in unit case volume, with growth in sparkling flavors, hydration, sports, coffee, tea, and nutrition.\n",
            "- Asia Pacific: 10% increase in unit case volume, with growth in Trademark Coca-Cola, sparkling flavors, hydration, sports, coffee, tea, and nutrition.\n",
            "- Global Ventures: 17% increase in unit case volume, driven by growth in hydration, sports, coffee, tea, and energy drinks.\n",
            "- Bottling Investments: 11% increase in unit case volume, primarily reflecting growth in India, South Africa, and the Philippines.\n",
            "\u001b[0mHTTP Request: POST https://api.openai.com/v1/chat/completions \"HTTP/1.1 429 Too Many Requests\"\n",
            "HTTP Request: POST https://api.openai.com/v1/chat/completions \"HTTP/1.1 429 Too Many Requests\"\n",
            "Retrying request to /chat/completions in 20.000000 seconds\n",
            "Retrying request to /chat/completions in 20.000000 seconds\n",
            "HTTP Request: POST https://api.openai.com/v1/chat/completions \"HTTP/1.1 200 OK\"\n",
            "HTTP Request: POST https://api.openai.com/v1/chat/completions \"HTTP/1.1 200 OK\"\n"
          ]
        }
      ]
    },
    {
      "cell_type": "code",
      "source": [
        "print(response)"
      ],
      "metadata": {
        "colab": {
          "base_uri": "https://localhost:8080/"
        },
        "id": "7EEy-VteN1xL",
        "outputId": "706fef30-50f4-49ec-969b-730fdbc6abfe"
      },
      "execution_count": 55,
      "outputs": [
        {
          "output_type": "stream",
          "name": "stdout",
          "text": [
            "In 2021, Coca-Cola experienced significant growth in various geographical markets, with notable increases in unit case volume across regions such as Europe, Middle East & Africa, Latin America, North America, Asia Pacific, Global Ventures, and Bottling Investments. The growth was driven by a variety of categories including sparkling flavors, hydration, sports, coffee, tea, and nutrition. In contrast, in 2022, Coca-Cola's major geographical market performances showed a more mixed picture with varying growth rates across regions. While some regions like Latin America and Global Ventures continued to see strong growth, others experienced a slowdown or decline in certain categories like juice and plant-based beverages in Europe, Middle East & Africa.\n"
          ]
        }
      ]
    },
    {
      "cell_type": "markdown",
      "source": [
        "## Note\n",
        "Due to the limitations of the free 5 credits offered by OpenAI, I was unable to load more than two PDFs simultaneously or use large queries to compare performance, as this exceeded the allowed limits. I explored and tested all retrievers and query engines mentioned in the assignment and conducted a performance comparison using OpenAI embeddings. However, further testing with larger queries would require an upgrade beyond the free credits, which I am unable to do at this time."
      ],
      "metadata": {
        "id": "YRXcApjbO7pY"
      }
    }
  ]
}